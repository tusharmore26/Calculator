{
  "nbformat": 4,
  "nbformat_minor": 0,
  "metadata": {
    "colab": {
      "provenance": [],
      "authorship_tag": "ABX9TyOvpDE/8cExSs0GKDJotSRq",
      "include_colab_link": true
    },
    "kernelspec": {
      "name": "python3",
      "display_name": "Python 3"
    },
    "language_info": {
      "name": "python"
    }
  },
  "cells": [
    {
      "cell_type": "markdown",
      "metadata": {
        "id": "view-in-github",
        "colab_type": "text"
      },
      "source": [
        "<a href=\"https://colab.research.google.com/github/tusharmore26/Calculator/blob/main/Prac1.ipynb\" target=\"_parent\"><img src=\"https://colab.research.google.com/assets/colab-badge.svg\" alt=\"Open In Colab\"/></a>"
      ]
    },
    {
      "cell_type": "code",
      "execution_count": 3,
      "metadata": {
        "colab": {
          "base_uri": "https://localhost:8080/"
        },
        "id": "EFhldGcvT4HG",
        "outputId": "0a11d957-b535-4e44-8dec-c9a4c6ac1548"
      },
      "outputs": [
        {
          "output_type": "stream",
          "name": "stdout",
          "text": [
            "      Name  Surname  Marks  Age\n",
            "0   Tushar     More     25   21\n",
            "1    Vinit  Bhosale     26   20\n",
            "2  Prajwal    Dinde     27   22\n",
            "3       Om    Patil     28   23\n",
            "4     Yash   Makode     29   21\n"
          ]
        }
      ],
      "source": [
        "import pandas as pd\n",
        "\n",
        "data={\n",
        "    'Name':[\"Tushar\",\"Vinit\",\"Prajwal\",\"Om\",\"Yash\"],\n",
        "    'Surname':[\"More\",\"Bhosale\",\"Dinde\",\"Patil\",\"Makode\"],\n",
        "    'Marks':[25,26,27,28,29],\n",
        "    'Age':[21,20,22,23,21]\n",
        "}\n",
        "\n",
        "df=pd.DataFrame(data, columns=['Name','Surname','Marks','Age'])\n",
        "\n",
        "print(df)\n"
      ]
    },
    {
      "cell_type": "code",
      "source": [
        "df2=pd.DataFrame(data)\n",
        "print(df2)"
      ],
      "metadata": {
        "colab": {
          "base_uri": "https://localhost:8080/"
        },
        "id": "DYiFSeZPU6-a",
        "outputId": "f091fb57-b104-4cd0-9b7f-3a6e5100a9fd"
      },
      "execution_count": 4,
      "outputs": [
        {
          "output_type": "stream",
          "name": "stdout",
          "text": [
            "      Name  Surname  Marks  Age\n",
            "0   Tushar     More     25   21\n",
            "1    Vinit  Bhosale     26   20\n",
            "2  Prajwal    Dinde     27   22\n",
            "3       Om    Patil     28   23\n",
            "4     Yash   Makode     29   21\n"
          ]
        }
      ]
    },
    {
      "cell_type": "code",
      "source": [
        "col=['Name']\n",
        "print(df[col])"
      ],
      "metadata": {
        "colab": {
          "base_uri": "https://localhost:8080/"
        },
        "id": "ccjVXx1xVHpr",
        "outputId": "64bc1525-a649-4b6a-bb7e-b78c02f35bba"
      },
      "execution_count": 7,
      "outputs": [
        {
          "output_type": "stream",
          "name": "stdout",
          "text": [
            "      Name\n",
            "0   Tushar\n",
            "1    Vinit\n",
            "2  Prajwal\n",
            "3       Om\n",
            "4     Yash\n",
            "      Name\n",
            "0   Tushar\n",
            "1    Vinit\n",
            "2  Prajwal\n"
          ]
        }
      ]
    },
    {
      "cell_type": "code",
      "source": [
        "print(df[col].head(3))"
      ],
      "metadata": {
        "colab": {
          "base_uri": "https://localhost:8080/"
        },
        "id": "8S9VPFGaVrDa",
        "outputId": "1318524b-a2ac-4537-e987-2dc8f654a23d"
      },
      "execution_count": 8,
      "outputs": [
        {
          "output_type": "stream",
          "name": "stdout",
          "text": [
            "      Name\n",
            "0   Tushar\n",
            "1    Vinit\n",
            "2  Prajwal\n"
          ]
        }
      ]
    },
    {
      "cell_type": "code",
      "source": [
        "print(df[col].tail(2))"
      ],
      "metadata": {
        "colab": {
          "base_uri": "https://localhost:8080/"
        },
        "id": "IHiFOI1GVuCG",
        "outputId": "227b9733-35c2-41ff-8861-c7a8c80ffa75"
      },
      "execution_count": 9,
      "outputs": [
        {
          "output_type": "stream",
          "name": "stdout",
          "text": [
            "   Name\n",
            "3    Om\n",
            "4  Yash\n"
          ]
        }
      ]
    },
    {
      "cell_type": "code",
      "source": [
        "print(df['Age'].mean())\n",
        "print(df['Marks'].median())"
      ],
      "metadata": {
        "colab": {
          "base_uri": "https://localhost:8080/"
        },
        "id": "4X-dTIpDV2tn",
        "outputId": "c5c951df-38d1-4fd2-cf9e-4b7c88d9da56"
      },
      "execution_count": 11,
      "outputs": [
        {
          "output_type": "stream",
          "name": "stdout",
          "text": [
            "21.4\n",
            "27.0\n"
          ]
        }
      ]
    }
  ]
}